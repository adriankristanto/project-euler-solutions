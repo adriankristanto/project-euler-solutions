{
 "cells": [
  {
   "cell_type": "markdown",
   "metadata": {},
   "source": [
    "# Multiples of 3 and 5"
   ]
  },
  {
   "cell_type": "markdown",
   "metadata": {},
   "source": [
    "## Problem Description\n",
    "\n",
    "If we list all the natural numbers below 10 that are multiples of 3 or 5, we get 3, 5, 6 and 9. The sum of these multiples is 23.\n",
    "\n",
    "Find the sum of all the multiples of 3 or 5 below 1000."
   ]
  },
  {
   "source": [
    "## Solution"
   ],
   "cell_type": "markdown",
   "metadata": {}
  },
  {
   "source": [
    "We can start with a simple solution using a for loop by adding up all numbers that are divisible by 3 and 5."
   ],
   "cell_type": "markdown",
   "metadata": {}
  },
  {
   "cell_type": "code",
   "execution_count": 2,
   "metadata": {},
   "outputs": [],
   "source": [
    "def solution1(n):\n",
    "    \n",
    "    total = 0\n",
    "    for i in range(n):\n",
    "        if i % 3 == 0 or i % 5 == 0:\n",
    "            total += i\n",
    "\n",
    "    return total"
   ]
  },
  {
   "source": [
    "We can also solve the problem using array comprehension."
   ],
   "cell_type": "markdown",
   "metadata": {}
  },
  {
   "cell_type": "code",
   "execution_count": 4,
   "metadata": {},
   "outputs": [],
   "source": [
    "def solution2(n):\n",
    "\n",
    "    return sum([x for x in range(n) if x % 3 == 0 or x % 5 == 0])"
   ]
  },
  {
   "source": [
    "Finally, we can create a more efficient solution using mathematical equations. Although modern computers can execute the above functions quick enough, I thought that the mathematical trick to solve the problem is interesting.\n",
    "\n",
    "Firstly, we find out how many multiples of $m$ there are under the number $n$ by performing integer division on $n-1$ by $m$, i.e.\n",
    "\n",
    "$\\lfloor \\frac{n-1}{m} \\rfloor$\n",
    "\n",
    "Note that we use $n-1$ here to exclude $n$ in case $n$ is a multiple of $m$."
   ],
   "cell_type": "markdown",
   "metadata": {}
  },
  {
   "cell_type": "code",
   "execution_count": 6,
   "metadata": {},
   "outputs": [],
   "source": [
    "def totalMultiples(m, n):\n",
    "    \"\"\"\n",
    "    Return total number of multiples of m that are less than n\n",
    "    \"\"\"\n",
    "    return (n-1) // m"
   ]
  },
  {
   "source": [
    "When $n=10$, the multiples of $3$ are $3,6,9$, which we can rewrite as $3 \\times (1,2,3)$.\n",
    "\n",
    "When $n=100$, the multiples of $3$ are $3,6,9,...,99$, which we can rewrite as $3 \\times (1,2,3,...,33)$ So, the idea is to sum up everything inside the bracket, then multiply the result by $m$.\n",
    "\n",
    "In this case, we can use [Gauss sum formula](https://nrich.maths.org/2478), i.e.\n",
    "\n",
    "$\\frac{n(n+1)}{2}$"
   ],
   "cell_type": "markdown",
   "metadata": {}
  },
  {
   "cell_type": "code",
   "execution_count": 11,
   "metadata": {},
   "outputs": [],
   "source": [
    "def gaussSum(k):\n",
    "\n",
    "    return k * (k+1) // 2"
   ]
  },
  {
   "source": [
    "Finally, we can use the function above to solve the problem."
   ],
   "cell_type": "markdown",
   "metadata": {}
  },
  {
   "cell_type": "code",
   "execution_count": 12,
   "metadata": {},
   "outputs": [],
   "source": [
    "def solution3(n):\n",
    "\n",
    "    return 3 * gaussSum(totalMultiples(3, n)) + 5 * gaussSum(totalMultiples(5, n)) - 15 * gaussSum(totalMultiples(15, n))"
   ]
  },
  {
   "source": [
    "Remember to exclude the sum of the multiples of both 3 and 5 to remove overlapping multiples."
   ],
   "cell_type": "markdown",
   "metadata": {}
  }
 ],
 "metadata": {
  "kernelspec": {
   "name": "python385jvsc74a57bd0a7cd8a632b0bd4aed817dae93dfa8b9c3c33fca64d270c7ff941523864faf7f5",
   "display_name": "Python 3.8.5 64-bit ('ml': conda)"
  },
  "language_info": {
   "codemirror_mode": {
    "name": "ipython",
    "version": 3
   },
   "file_extension": ".py",
   "mimetype": "text/x-python",
   "name": "python",
   "nbconvert_exporter": "python",
   "pygments_lexer": "ipython3",
   "version": "3.8.5-final"
  }
 },
 "nbformat": 4,
 "nbformat_minor": 4
}