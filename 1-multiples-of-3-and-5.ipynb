{
 "cells": [
  {
   "cell_type": "markdown",
   "metadata": {},
   "source": [
    "# Multiples of 3 and 5"
   ]
  },
  {
   "cell_type": "markdown",
   "metadata": {},
   "source": [
    "## Problem Description\n",
    "\n",
    "If we list all the natural numbers below 10 that are multiples of 3 or 5, we get 3, 5, 6 and 9. The sum of these multiples is 23.\n",
    "\n",
    "Find the sum of all the multiples of 3 or 5 below 1000."
   ]
  },
  {
   "cell_type": "markdown",
   "metadata": {},
   "source": [
    "## Solution"
   ]
  },
  {
   "cell_type": "markdown",
   "metadata": {},
   "source": [
    "We can start with a simple solution using a for loop by adding up all numbers that are divisible by 3 and 5."
   ]
  },
  {
   "cell_type": "code",
   "execution_count": 1,
   "metadata": {},
   "outputs": [],
   "source": [
    "def solution1(n):\n",
    "    \n",
    "    total = 0\n",
    "    for i in range(n):\n",
    "        if i % 3 == 0 or i % 5 == 0:\n",
    "            total += i\n",
    "\n",
    "    return total"
   ]
  },
  {
   "cell_type": "markdown",
   "metadata": {},
   "source": [
    "We can also solve the problem using array comprehension."
   ]
  },
  {
   "cell_type": "code",
   "execution_count": 2,
   "metadata": {},
   "outputs": [],
   "source": [
    "def solution2(n):\n",
    "\n",
    "    return sum([x for x in range(n) if x % 3 == 0 or x % 5 == 0])"
   ]
  },
  {
   "cell_type": "markdown",
   "metadata": {},
   "source": [
    "Finally, we can create a more efficient solution using mathematical equations. Although modern computers can execute the above functions quick enough, I thought that the mathematical trick to solve the problem is interesting.\n",
    "\n",
    "Firstly, we find out how many multiples of $m$ there are under the number $n$ by performing integer division on $n-1$ by $m$, i.e.\n",
    "\n",
    "$\\lfloor \\frac{n-1}{m} \\rfloor$\n",
    "\n",
    "Note that we use $n-1$ here to exclude $n$ in case $n$ is a multiple of $m$."
   ]
  },
  {
   "cell_type": "code",
   "execution_count": 3,
   "metadata": {},
   "outputs": [],
   "source": [
    "def totalMultiples(m, n):\n",
    "    \"\"\"\n",
    "    Return total number of multiples of m that are less than n\n",
    "    \"\"\"\n",
    "    return (n-1) // m"
   ]
  },
  {
   "cell_type": "markdown",
   "metadata": {},
   "source": [
    "When $n=10$, the multiples of $3$ are $3,6,9$, which we can rewrite as $3 \\times (1,2,3)$.\n",
    "\n",
    "When $n=100$, the multiples of $3$ are $3,6,9,...,99$, which we can rewrite as $3 \\times (1,2,3,...,33)$ So, the idea is to sum up everything inside the bracket, then multiply the result by $m$.\n",
    "\n",
    "In this case, we can use [Gauss sum formula](https://nrich.maths.org/2478), i.e.\n",
    "\n",
    "$\\frac{n(n+1)}{2}$"
   ]
  },
  {
   "cell_type": "code",
   "execution_count": 4,
   "metadata": {},
   "outputs": [],
   "source": [
    "def gaussSum(k):\n",
    "\n",
    "    return k * (k+1) // 2"
   ]
  },
  {
   "cell_type": "markdown",
   "metadata": {},
   "source": [
    "Finally, we can use the function above to solve the problem."
   ]
  },
  {
   "cell_type": "code",
   "execution_count": 5,
   "metadata": {},
   "outputs": [],
   "source": [
    "def solution3(n):\n",
    "\n",
    "    return 3 * gaussSum(totalMultiples(3, n)) + 5 * gaussSum(totalMultiples(5, n)) - 15 * gaussSum(totalMultiples(15, n))"
   ]
  },
  {
   "cell_type": "markdown",
   "metadata": {},
   "source": [
    "Remember to exclude the sum of the multiples of both 3 and 5 to remove overlapping multiples."
   ]
  },
  {
   "cell_type": "code",
   "execution_count": 6,
   "metadata": {},
   "outputs": [
    {
     "name": "stderr",
     "output_type": "stream",
     "text": [
      "test_solution1 (__main__.TestSolution) ... ok\n",
      "test_solution2 (__main__.TestSolution) ... ok\n",
      "test_solution3 (__main__.TestSolution) ... ok\n",
      "\n",
      "----------------------------------------------------------------------\n",
      "Ran 3 tests in 0.002s\n",
      "\n",
      "OK\n"
     ]
    },
    {
     "data": {
      "text/plain": [
       "<unittest.main.TestProgram at 0x7fe820379b50>"
      ]
     },
     "execution_count": 6,
     "metadata": {},
     "output_type": "execute_result"
    }
   ],
   "source": [
    "import unittest\n",
    "\n",
    "class TestSolution(unittest.TestCase):\n",
    "\n",
    "    def test_solution1(self):\n",
    "        self.assertEqual(solution1(10), 23)\n",
    "        self.assertEqual(solution1(100), 2318)\n",
    "        self.assertEqual(solution1(1000), 233168)\n",
    "    \n",
    "    def test_solution2(self):\n",
    "        self.assertEqual(solution2(10), 23)\n",
    "        self.assertEqual(solution2(100), 2318)\n",
    "        self.assertEqual(solution2(1000), 233168)\n",
    "\n",
    "    def test_solution3(self):\n",
    "        self.assertEqual(solution3(10), 23)\n",
    "        self.assertEqual(solution3(100), 2318)\n",
    "        self.assertEqual(solution3(1000), 233168)\n",
    "\n",
    "unittest.main(argv=[''], verbosity=2, exit=False)"
   ]
  }
 ],
 "metadata": {
  "kernelspec": {
   "display_name": "Python 3",
   "language": "python",
   "name": "python3"
  },
  "language_info": {
   "codemirror_mode": {
    "name": "ipython",
    "version": 3
   },
   "file_extension": ".py",
   "mimetype": "text/x-python",
   "name": "python",
   "nbconvert_exporter": "python",
   "pygments_lexer": "ipython3",
   "version": "3.7.4"
  }
 },
 "nbformat": 4,
 "nbformat_minor": 4
}
